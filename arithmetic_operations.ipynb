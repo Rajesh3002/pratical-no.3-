{
  "nbformat": 4,
  "nbformat_minor": 0,
  "metadata": {
    "colab": {
      "name": "arithmetic operations.ipynb",
      "provenance": [],
      "toc_visible": true
    },
    "kernelspec": {
      "name": "python3",
      "display_name": "Python 3"
    },
    "language_info": {
      "name": "python"
    }
  },
  "cells": [
    {
      "cell_type": "markdown",
      "source": [
        "3]Program to perform different arithmetic operations on numbers in python"
      ],
      "metadata": {
        "id": "QfsLW_Anqvfy"
      }
    },
    {
      "cell_type": "code",
      "source": [
        "x = 1\n",
        "y = 2.8\n",
        "z = 1j\n",
        "a = 2.2\n",
        "b = 3.3j\n",
        "\n",
        "print(x+y)\n",
        "print(y+a)\n",
        "print(a+b)\n",
        "print(z+x)\n",
        "\n",
        "\n",
        "print(type(x))\n",
        "print(type(y))\n",
        "print(type(z))\n",
        "print(type(a))\n",
        "print(type(b))"
      ],
      "metadata": {
        "colab": {
          "base_uri": "https://localhost:8080/"
        },
        "id": "UlMJhAsnq10B",
        "outputId": "2215ccad-e34b-41f0-8c6a-16b7c8fd38dc"
      },
      "execution_count": 1,
      "outputs": [
        {
          "output_type": "stream",
          "name": "stdout",
          "text": [
            "3.8\n",
            "5.0\n",
            "(2.2+3.3j)\n",
            "(1+1j)\n",
            "<class 'int'>\n",
            "<class 'float'>\n",
            "<class 'complex'>\n",
            "<class 'float'>\n",
            "<class 'complex'>\n"
          ]
        }
      ]
    }
  ]
}